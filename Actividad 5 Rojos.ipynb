{
 "cells": [
  {
   "cell_type": "code",
   "execution_count": 2,
   "id": "48ce9f5c-e04d-4949-8e93-fdf0f127bd97",
   "metadata": {},
   "outputs": [
    {
     "name": "stdout",
     "output_type": "stream",
     "text": [
      "islas: 6802\n"
     ]
    }
   ],
   "source": [
    "# Detectar colores rojos\n",
    "\n",
    "import cv2 as cv\n",
    "\n",
    "# Valores del rango de rojos\n",
    "r1 = 100\n",
    "g1 = 0\n",
    "b1 = 0\n",
    "r2 = 255\n",
    "g2 = 100\n",
    "b2 = 100\n",
    "\n",
    "islas = 0\n",
    "\n",
    "mapa = cv.imread('ImagenActividad5.jpg', 1)\n",
    "filtro = cv.imread('ImagenActividad5.jpg', 1)\n",
    "w =mapa.shape[0]\n",
    "h =mapa.shape[1]\n",
    "\n",
    "def esRojo(i, j):\n",
    "    if(filtro[i, j][2] >= r1 and filtro[i, j][2] <= r2):\n",
    "        if(filtro[i, j][1] >= g1 and filtro[i, j][1] <= g2):\n",
    "            if(filtro[i, j][0] >= b1 and filtro[i, j][0] <= b2):\n",
    "                return True;\n",
    "    return False;\n",
    "\n",
    "def metodoRecursivo(i, j):\n",
    "    if not(i < 0 or i >= w or j < 0 or j >= h):\n",
    "        if(esRojo(i,j)):\n",
    "            filtro[i,j][2] = 0\n",
    "            filtro[i,j][1] = 0\n",
    "            filtro[i,j][0] = 0\n",
    "            metodoRecursivo(i - 1, j)\n",
    "            metodoRecursivo(i + 1, j)\n",
    "            metodoRecursivo(i, j - 1)\n",
    "            metodoRecursivo(i, j + 1)\n",
    "    return\n",
    "\n",
    "for i in range(w):\n",
    "    for j in range(h):\n",
    "        if(esRojo(i, j)):\n",
    "            islas += 1\n",
    "            metodoRecursivo(i, j);\n",
    "            \n",
    "cv.imshow('Original',mapa)\n",
    "cv.imshow('filtro',filtro)\n",
    "print('islas:',islas)\n",
    "cv.waitKey(0)\n",
    "cv.destroyAllWindows()"
   ]
  },
  {
   "cell_type": "code",
   "execution_count": null,
   "id": "66e7a673-bbcf-4316-845f-ca963aded691",
   "metadata": {},
   "outputs": [],
   "source": []
  },
  {
   "cell_type": "code",
   "execution_count": null,
   "id": "26c3b7ec-cda1-4def-9b3a-f117ec8dacc2",
   "metadata": {},
   "outputs": [],
   "source": []
  }
 ],
 "metadata": {
  "kernelspec": {
   "display_name": "Python 3 (ipykernel)",
   "language": "python",
   "name": "python3"
  },
  "language_info": {
   "codemirror_mode": {
    "name": "ipython",
    "version": 3
   },
   "file_extension": ".py",
   "mimetype": "text/x-python",
   "name": "python",
   "nbconvert_exporter": "python",
   "pygments_lexer": "ipython3",
   "version": "3.10.5"
  }
 },
 "nbformat": 4,
 "nbformat_minor": 5
}
